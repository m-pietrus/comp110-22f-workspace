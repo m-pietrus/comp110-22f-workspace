{
 "cells": [
  {
   "cell_type": "markdown",
   "metadata": {},
   "source": [
    "# Final Exam Practice"
   ]
  },
  {
   "cell_type": "markdown",
   "metadata": {},
   "source": [
    "## Conceptual Questions\n",
    "### 1-13. True/False"
   ]
  },
  {
   "cell_type": "markdown",
   "metadata": {},
   "source": [
    "1. A class definition provides a pattern for creating objects, but doesn’t make any objects itself.\n",
    "2. By convention, Python class names start with a lowercase letter.\n",
    "3. When you define a method in a class, all objects of that class have that method associated with it.\n",
    "4. The first parameter of a method is a copy of the object the method is called on.\n",
    "5. A class definition must come before an object of that class is instantiated.\n",
    "6. You must have an instance of a class (an object) to call the class’s constructor.\n",
    "7. Constructors must have the `self` parameter in their signature.\n",
    "8. Constructors must take at least one parameter other than the self parameter.\n",
    "9. Objects are passed into functions by reference.\n",
    "10. The type of an object is the same as the name of the class it is an instance of.\n",
    "11. A method is not pure if it creates a new object.\n",
    "12. If optional arguments are not passed to a function, the function call will fail.\n",
    "13. Union types allow for arguments to be one of multiple types."
   ]
  },
  {
   "cell_type": "markdown",
   "metadata": {},
   "source": [
    "## Memory Diagrams"
   ]
  },
  {
   "cell_type": "markdown",
   "metadata": {},
   "source": [
    "### 14. Produce a memory diagram for the following code snippet, being sure to include its stack and output."
   ]
  },
  {
   "cell_type": "code",
   "execution_count": 1,
   "metadata": {},
   "outputs": [
    {
     "name": "stdout",
     "output_type": "stream",
     "text": [
      "14 , 3\n",
      "14 , 3\n"
     ]
    }
   ],
   "source": [
    "class Point:\n",
    "    \"\"\"Models the idea of a point at location (x,y).\"\"\"\n",
    "    x: int\n",
    "    y: int\n",
    "\n",
    "    def __init__(self, x: int, y: int):\n",
    "        \"\"\"Constructor definition!\"\"\"\n",
    "        self.x = x\n",
    "        self.y = y\n",
    "\n",
    "\n",
    "class Path:\n",
    "    \"\"\"Models the idea of a path from point a to b.\"\"\"\n",
    "    a: Point\n",
    "    b: Point\n",
    "\n",
    "    def __init__(self, a: Point, b: Point):\n",
    "        \"\"\"Constructor definition!\"\"\"\n",
    "        self.a = a\n",
    "        self.b = b\n",
    "\n",
    "    def scale(self, amount: int) -> None:\n",
    "        \"\"\"Scales the points by a specified amount.\"\"\"\n",
    "        self.a.x *= amount\n",
    "        self.b.y *= amount\n",
    "\n",
    "    def translate(self) -> None:\n",
    "        \"\"\"Moves the points up 2 units and right 5 units.\"\"\"\n",
    "        self.a.x += 5\n",
    "        self.a.y += 2\n",
    "        self.b.x += 5\n",
    "        self.b.y += 2\n",
    "\n",
    "\n",
    "def main() -> None:\n",
    "    \"\"\"Entrypoint of the program.\"\"\"\n",
    "    p1: Point = Point(2, 1)\n",
    "    p2: Point = Point(3, 6)\n",
    "\n",
    "    line1: Path = Path(p1, p2)\n",
    "    line2: Path = line1\n",
    "\n",
    "    line2.translate()\n",
    "    line2.scale(2)\n",
    "\n",
    "    print(f\"{line1.a.x} , {line1.a.y}\")\n",
    "    print(f\"{line2.a.x} , {line2.a.y}\")\n",
    "\n",
    "\n",
    "if __name__ == \"__main__\":\n",
    "    main()"
   ]
  },
  {
   "cell_type": "markdown",
   "metadata": {},
   "source": [
    "### 15. Produce a memory diagram for the following code snippet, being sure to include its stack and output."
   ]
  },
  {
   "cell_type": "code",
   "execution_count": 4,
   "metadata": {},
   "outputs": [
    {
     "name": "stdout",
     "output_type": "stream",
     "text": [
      "Gotta find a way into the group somehow, Johnny.\n",
      "Now that's quite a circle you're building!\n"
     ]
    }
   ],
   "source": [
    "\"\"\"Diagramming practice for Quiz 04.\"\"\"\n",
    "\n",
    "from __future__ import annotations\n",
    "\n",
    "\n",
    "class Phone:\n",
    "    \"\"\"Represents a phone as a class.\"\"\"\n",
    "\n",
    "    number: str\n",
    "    name: str\n",
    "    contacts: list[Phone]\n",
    "\n",
    "    def __init__(self, number: str, name: str):\n",
    "        \"\"\"Creates a phone object.\"\"\"\n",
    "        self.number = number\n",
    "        self.name = name\n",
    "        self.contacts = []\n",
    "\n",
    "    def add_contact(self, other: Phone) -> None:\n",
    "        \"\"\"Making friends!\"\"\"\n",
    "        if not (other in self.contacts):\n",
    "            self.contacts.append(other)\n",
    "\n",
    "    def add_contacts_friends(self, other: Phone) -> None:\n",
    "        \"\"\"A freind introduces you to a new friend group :D.\"\"\"\n",
    "        if other in self.contacts:\n",
    "            print(\"Now that's quite a circle you're building!\")\n",
    "            for contact in other.contacts:\n",
    "                if not (contact in self.contacts):\n",
    "                    self.contacts.append(contact)\n",
    "        else:\n",
    "            print(f\"Gotta find a way into the group somehow, {self.name}.\")\n",
    "\n",
    "\n",
    "def main():\n",
    "    \"\"\"Entrypoint of the program.\"\"\"\n",
    "    main_character: Phone = Phone(\"919-999-9999\", \"Johnny\")\n",
    "    new_friend: Phone = Phone(\"704-999-9999\", \"Bianca\")\n",
    "    tv_ad: Phone = Phone(\"877CASHNOW\", \"Wentworth\")\n",
    "    new_friend.add_contact(tv_ad)\n",
    "\n",
    "    main_character.add_contacts_friends(new_friend)\n",
    "\n",
    "    main_character.add_contact(new_friend)\n",
    "    main_character.add_contacts_friends(new_friend)\n",
    "\n",
    "\n",
    "if __name__ == \"__main__\":\n",
    "    main()"
   ]
  },
  {
   "cell_type": "markdown",
   "metadata": {},
   "source": [
    "# Final Exam Practice"
   ]
  },
  {
   "cell_type": "markdown",
   "metadata": {},
   "source": [
    "## Function Writing"
   ]
  },
  {
   "cell_type": "markdown",
   "metadata": {},
   "source": [
    "### 1. `reverse_multiply`"
   ]
  },
  {
   "cell_type": "markdown",
   "metadata": {},
   "source": [
    "Write a function called `reverse_multiply`. Given a `list[int]`, `reverse_multiply` should return a `list[int]` with the values from the original list doubled and in reverse order."
   ]
  },
  {
   "cell_type": "code",
   "execution_count": 18,
   "metadata": {},
   "outputs": [],
   "source": [
    "def reverse_multiply(items: list[int]) -> list[int]:\n",
    "    \"\"\"Returns doubled, reversed input list.\"\"\"\n",
    "    output: list[int] = []\n",
    "    i: int = len(items) - 1\n",
    "    while len(items) > len(output):\n",
    "        output.append(items[i] * 2)\n",
    "        i = i -1 \n",
    "    return output\n",
    "\n",
    "assert reverse_multiply([1, 2, 3]) == [6, 4, 2]"
   ]
  },
  {
   "cell_type": "markdown",
   "metadata": {},
   "source": [
    "### 2. `free_biscuits`"
   ]
  },
  {
   "cell_type": "markdown",
   "metadata": {},
   "source": [
    "Write a function called free_biscuits. Given a dictionary with str keys (representing basketball games) and list[int] values (representing points scored by players), free_biscuits should return a new dictionary of type dict[str, bool] that maps each game to a boolean value for free biscuits. (True if the points add up to 100+, False if otherwise)"
   ]
  },
  {
   "cell_type": "code",
   "execution_count": 19,
   "metadata": {},
   "outputs": [],
   "source": [
    "def free_biscuits(stats: dict[str, list[int]]) -> dict[str, bool]:\n",
    "    \"\"\"Returns if Bojangles has 2/$1 sausage biscuits after a UNC Basketball game.\"\"\"\n",
    "    output: dict[str, bool] = {}\n",
    "    for game in stats:\n",
    "        total: int = sum(stats[game])\n",
    "        if total >= 100: \n",
    "            output[game] = True\n",
    "        else:\n",
    "            output[game] = False\n",
    "    return output\n",
    "\n",
    "\n",
    "assert free_biscuits({\"UNCvsDUKE\": [38, 20, 42], \"UNCvsState\": [9, 51, 16, 23]}) == {\"UNCvsDUKE\": True, \"UNCvsState\": False}"
   ]
  },
  {
   "cell_type": "markdown",
   "metadata": {},
   "source": [
    "### 3. `multiplies`"
   ]
  },
  {
   "cell_type": "markdown",
   "metadata": {},
   "source": [
    "Write a function called multiples. Given a list[int], multiples should return a list[bool] that tells whether each int value is a multiple of the previous value. For the first number in the list, you should wrap around the list and compare this int to the last number in the list."
   ]
  },
  {
   "cell_type": "code",
   "execution_count": 52,
   "metadata": {},
   "outputs": [],
   "source": [
    "def multiples(items: list[int]) -> list[bool]:\n",
    "    output: list[bool] = []\n",
    "    i: int = 0\n",
    "    while len(output) < len(items):\n",
    "        if i == 0 and items[i] % items[len(items) - 1] == 0:\n",
    "            output.append(True)\n",
    "        else:\n",
    "            if items[i] % items[i - 1] == 0:\n",
    "                output.append(True)\n",
    "        i += 1 \n",
    "        if len(output) != i:\n",
    "            output.append(False)\n",
    "    return output\n",
    "\n",
    "\n",
    "assert multiples([2, 3, 4, 8, 16, 2, 4, 2]) == [True, False, False, True, True, False, True, False]"
   ]
  },
  {
   "cell_type": "markdown",
   "metadata": {},
   "source": [
    "## Class Writing"
   ]
  },
  {
   "cell_type": "markdown",
   "metadata": {},
   "source": [
    "### 1. `HotCocoa`"
   ]
  },
  {
   "cell_type": "markdown",
   "metadata": {},
   "source": [
    "1. Each HotCocoa object has a bool attribute called has_whip, a str attribute called flavor, and two int attributes called marshmallow_count and sweetness.\n",
    "2. The class should have a constructor that takes in and sets up each of its attribute’s values.\n",
    "3. Write a method called mallow_adder that takes in an int called mallows, increases the marshmallow_count by that amount, and increases the sweetness by that amount times 2.\n",
    "4. Write a method called calorie_count that returns a float. If the flavor of the HotCocoa is “vanilla” or “peppermint”, increase the calorie count by 30, otherwise increase it by 20. If the HotCocoa has whipped cream (has_whip is True), increase the calorie count by 100. Finally, increase the calorie count by half the number of marshmallows. The calorie count should be calculated and returned when this method is called."
   ]
  },
  {
   "cell_type": "code",
   "execution_count": null,
   "metadata": {},
   "outputs": [],
   "source": [
    "class HotCocoa:\n",
    "    \"\"\"Represents a cup of hot cocoa.\"\"\"\n",
    "    has_whip: bool\n",
    "    flavor: str\n",
    "    marshmallow_count: int\n",
    "    sweetness: int\n",
    "\n",
    "    def __init__(self, has_whip: bool, flavor: str, marshmallow_count: int, sweetness: int):\n",
    "        \"\"\"Creates the cup of cocoa.\"\"\"\n",
    "        self.has_whip = has_whip\n",
    "        self.flavor = flavor\n",
    "        self.marshmallow_count = marshmallow_count\n",
    "        self.sweetness = sweetness\n",
    "\n",
    "    def mallow_adder(self, mallows: int) -> None:\n",
    "        \"\"\"Increases the number of marshmallows.\"\"\"\n",
    "        self.marshmallow_count += mallows\n",
    "        self.sweetness += mallows * 2\n",
    "    \n",
    "    def calorie_count(self) -> float:\n",
    "        \"\"\"Calculate how many calories this cup of cocoa has.\"\"\"\n",
    "        calories: float = 0.0\n",
    "        if self.flavor is \"vanilla\" or self.flavor is \"peppermint\":\n",
    "            calories += 30\n",
    "        else:\n",
    "            calories += 20\n",
    "        if self.has_whip is True:\n",
    "            calories += 100\n",
    "        return calories + self.marshmallow_count * 0.5\n"
   ]
  },
  {
   "cell_type": "markdown",
   "metadata": {},
   "source": [
    "# Recursion"
   ]
  },
  {
   "cell_type": "markdown",
   "metadata": {},
   "source": [
    "### `factorial`"
   ]
  },
  {
   "cell_type": "markdown",
   "metadata": {},
   "source": [
    "Write a recursive factorial function. The factorial of a positive integer is the product of that integer with all of the positive integers less than it. `!n` is used to denote the factorial of a positive integer `n`. \n",
    "\n",
    "    (4! = 4*3*2*1 = 24) \n",
    "\n",
    "Ex: factorial(4) should return 24, factorial(5) should return 120, factorial(1) should return 1."
   ]
  },
  {
   "cell_type": "code",
   "execution_count": 57,
   "metadata": {},
   "outputs": [
    {
     "name": "stdout",
     "output_type": "stream",
     "text": [
      "362880\n"
     ]
    }
   ],
   "source": [
    "def factorial(start: int):\n",
    "    \"\"\"Returns the factorial of the number called.\"\"\"\n",
    "    if start == 1:\n",
    "        return start\n",
    "    else:\n",
    "        return start * factorial(start - 1)"
   ]
  }
 ],
 "metadata": {
  "kernelspec": {
   "display_name": "Python 3.11.0 64-bit",
   "language": "python",
   "name": "python3"
  },
  "language_info": {
   "codemirror_mode": {
    "name": "ipython",
    "version": 3
   },
   "file_extension": ".py",
   "mimetype": "text/x-python",
   "name": "python",
   "nbconvert_exporter": "python",
   "pygments_lexer": "ipython3",
   "version": "3.11.0"
  },
  "orig_nbformat": 4,
  "vscode": {
   "interpreter": {
    "hash": "aee8b7b246df8f9039afb4144a1f6fd8d2ca17a180786b69acc140d282b71a49"
   }
  }
 },
 "nbformat": 4,
 "nbformat_minor": 2
}
